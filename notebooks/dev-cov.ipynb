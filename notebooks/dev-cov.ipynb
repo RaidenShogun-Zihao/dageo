{
 "cells": [
  {
   "cell_type": "code",
   "execution_count": 1,
   "id": "719a3bd7-4f23-4ee5-a476-dca928a1a363",
   "metadata": {},
   "outputs": [],
   "source": [
    "import numpy as np\n",
    "import scipy as sp\n",
    "%load_ext memory_profiler"
   ]
  },
  {
   "cell_type": "code",
   "execution_count": 2,
   "id": "1261af7d-7412-432d-96ee-b6a59fdb7d4d",
   "metadata": {},
   "outputs": [],
   "source": [
    "# Covariogram parameters \n",
    "L = (12.1, 8.5) \n",
    "theta = 45 * np.pi/180\n",
    "sigma_prior2 = 1.0\n",
    "nx = 5\n",
    "ny = 3\n",
    "nc = nx*ny\n",
    "inp = (nx, ny, L, theta, sigma_prior2)"
   ]
  },
  {
   "cell_type": "code",
   "execution_count": 3,
   "id": "11d48754-d94d-4126-bb5d-90c7db2b3506",
   "metadata": {},
   "outputs": [],
   "source": [
    "def CalcHL(x0, x1, L, theta):\n",
    "    cosT = np.cos(theta)\n",
    "    sinT = np.sin(theta)\n",
    "    dx = x1[0] - x0[0]\n",
    "    dy = x1[1] - x0[1]\n",
    "\n",
    "    dxRot = np.array([[cosT, -sinT], [sinT, cosT]]) @ np.array([[dx], [dy]])\n",
    "    dxFlat = dxRot.flatten()\n",
    "\n",
    "    return np.sqrt((dxFlat[0]/L[0])**2 + (dxFlat[1]/L[1])**2)\n",
    "\n",
    "# Calc covariance between two gridblocks\n",
    "def SphereFunction(x0, x1, L, theta, sigmaPr2):\n",
    "    hl = CalcHL(x0, x1, L, theta)\n",
    "\n",
    "    if (hl > 1):\n",
    "        return 0\n",
    "    \n",
    "    return sigmaPr2 * (1.0 - 3.0/2.0*hl + (hl**3)/2)\n",
    "\n",
    "# convert index numeration to I J index\n",
    "def IndexToIJ(index, ni, nj):\n",
    "    return ((index % ni) + 1, (index // ni) + 1)\n",
    "\n",
    "# Convert i J numeration to index\n",
    "def IJToIndex(i,j,ni,nj):\n",
    "    return (i-1) + (j-1)*ni\n",
    "\n",
    "def gabriel(Ni, Nj, L, theta, sigmaPr2):\n",
    "    Nmatrix = Ni * Nj\n",
    "    Cm = np.empty([Nmatrix, Nmatrix])\n",
    "    for index0 in range(Nmatrix):\n",
    "        I0 = IndexToIJ(index0,Ni,Nj)\n",
    "        for index1 in range(Nmatrix):\n",
    "            I1 = IndexToIJ(index1,Ni,Nj)\n",
    "            Cm[index0, index1] = SphereFunction(I0, I1, L, theta, sigmaPr2)\n",
    "    return Cm"
   ]
  },
  {
   "cell_type": "code",
   "execution_count": 4,
   "id": "305b165f-2e20-4cd4-8186-3942bee70563",
   "metadata": {},
   "outputs": [],
   "source": [
    "def ilshat(Ni, Nj, L, theta, sigmaPr2):\n",
    "    cosT = np.cos(theta)\n",
    "    sinT = np.sin(theta)\n",
    "\n",
    "    Nmatrix = Ni * Nj\n",
    "    index = np.arange(Nmatrix)  # 1D-index\n",
    "    I = index % Ni + 1  # 2D-indices\n",
    "    J = index // Ni + 1\n",
    "    I0, I1 = np.meshgrid(I, I)\n",
    "    J0, J1 = np.meshgrid(J, J)\n",
    "    dx = I1 - I0\n",
    "    dy = J1 - J0\n",
    "    # rotate\n",
    "    dxRot = cosT * dx - sinT * dy\n",
    "    dyRot = sinT * dx + cosT * dy\n",
    "    # norm\n",
    "    hl = np.sqrt((dxRot/L[0])**2 + (dyRot/L[1])**2)\n",
    "\n",
    "    Cm = sigmaPr2 * (1.0 - 3.0 / 2.0 * hl + (hl ** 3) / 2)\n",
    "    Cm[hl > 1] = 0\n",
    "    return Cm"
   ]
  },
  {
   "cell_type": "code",
   "execution_count": 5,
   "id": "f90c3d33-e585-4b28-9731-464a090a10fd",
   "metadata": {},
   "outputs": [],
   "source": [
    "def full_dieter(nx, ny, length, theta, sigma_pr2):\n",
    "    nc = nx*ny\n",
    "    cost = np.cos(theta)\n",
    "    sint = np.sin(theta)\n",
    "\n",
    "    # Fill the first row nx * nc\n",
    "    tmp = np.zeros([nx, nc])\n",
    "    for i in range(nx):\n",
    "        x0 = (i % nx) + 1\n",
    "        x1 = (i // nx) + 1\n",
    "        for j in range(i+1, nc):\n",
    "            y0 = (j % nx) + 1\n",
    "            y1 = (j // nx) + 1\n",
    "            d0 = y0 - x0\n",
    "            d1 = y1 - x1\n",
    "            rot0 = cost*d0 - sint*d1\n",
    "            rot1 = sint*d0 + cost*d1\n",
    "\n",
    "            hl = np.sqrt((rot0/length[0])**2 + (rot1/length[1])**2)\n",
    "\n",
    "            # Calculate value.\n",
    "            if hl <= 1:\n",
    "                tmp[i, j] = sigma_pr2 * (1 - 3/2*hl + (hl**3)/2)\n",
    "\n",
    "    # Fill the upper triangle by copying the first row\n",
    "    cov = np.zeros([nc, nc])\n",
    "    for j in range(ny):\n",
    "        cov[nx*j:nx*(j+1), nx*j:] = tmp[:, :nc-nx*j]\n",
    "    # Fill the lower triangle with the transpose\n",
    "    cov += cov.T\n",
    "    # Add the diagonal\n",
    "    cov += np.diag(np.ones(nc))\n",
    "\n",
    "    return cov"
   ]
  },
  {
   "cell_type": "code",
   "execution_count": 13,
   "id": "13f7681c-74d6-4ae6-a317-b27ca999ea54",
   "metadata": {},
   "outputs": [],
   "source": [
    "def sparse_dieter(nx, ny, length, theta, sigma_pr2):\n",
    "    nc = nx*ny\n",
    "    cost = np.cos(theta)\n",
    "    sint = np.sin(theta)\n",
    "\n",
    "    # TODO\n",
    "    # First, do diagnoal\n",
    "    # Then, loop over i in range(1, nc):\n",
    "    # compute the diagonal values of first nx entries\n",
    "    # if any non-zero, repeat-ny-times and add to sparse on both sides\n",
    "    \n",
    "    # Fill the first row nx * nc\n",
    "    tmp = np.zeros([nx, nc])\n",
    "    for i in range(nx):\n",
    "        x0 = (i % nx) + 1\n",
    "        x1 = (i // nx) + 1\n",
    "        for j in range(i+1, nc):\n",
    "            y0 = (j % nx) + 1\n",
    "            y1 = (j // nx) + 1\n",
    "            d0 = y0 - x0\n",
    "            d1 = y1 - x1\n",
    "            rot0 = cost*d0 - sint*d1\n",
    "            rot1 = sint*d0 + cost*d1\n",
    "\n",
    "            hl = np.sqrt((rot0/length[0])**2 + (rot1/length[1])**2)\n",
    "\n",
    "            # Calculate value.\n",
    "            if hl <= 1:\n",
    "                tmp[i, j] = sigma_pr2 * (1 - 3/2*hl + (hl**3)/2)\n",
    "\n",
    "    # Fill the upper triangle by copying the first row\n",
    "    cov = np.zeros([nc, nc])\n",
    "    for j in range(ny):\n",
    "        cov[nx*j:nx*(j+1), nx*j:] = tmp[:, :nc-nx*j]\n",
    "    # Fill the lower triangle with the transpose\n",
    "    cov += cov.T\n",
    "    # Add the diagonal\n",
    "    cov += np.diag(np.ones(nc))\n",
    "\n",
    "    return cov"
   ]
  },
  {
   "cell_type": "code",
   "execution_count": 20,
   "id": "0101b46a-0b29-43eb-a93d-06b19cd0a922",
   "metadata": {},
   "outputs": [
    {
     "name": "stdout",
     "output_type": "stream",
     "text": [
      "Identical: True\n"
     ]
    },
    {
     "data": {
      "image/png": "[encoded data removed]",
      "text/plain": [
       "<Figure size 640x480 with 3 Axes>"
      ]
     },
     "metadata": {},
     "output_type": "display_data"
    }
   ],
   "source": [
    "fdi = full_dieter(*inp)\n",
    "sdi = sparse_dieter(*inp)\n",
    "\n",
    "fig, axs = plt.subplots(1, 2, sharex=True, sharey=True, constrained_layout=True)\n",
    "axs[0].set_title('Full')\n",
    "axs[1].set_title('Sparse')\n",
    "im = axs[0].imshow(fdi, aspect='equal', vmin=0, vmax=1)\n",
    "axs[1].imshow(sdi, aspect='equal', vmin=0, vmax=1)\n",
    "fig.colorbar(im, ax=axs, orientation='horizontal')\n",
    "print(f\"Identical: {np.allclose(fdi, sdi)}\")"
   ]
  },
  {
   "cell_type": "code",
   "execution_count": 14,
   "id": "ac5276ba-327a-48fb-bf69-d242d9c73992",
   "metadata": {},
   "outputs": [
    {
     "data": {
      "text/plain": [
       "(True, True, True)"
      ]
     },
     "execution_count": 14,
     "metadata": {},
     "output_type": "execute_result"
    }
   ],
   "source": [
    "gab = gabriel(*inp)\n",
    "ils = ilshat(*inp)\n",
    "fdi = full_dieter(*inp)\n",
    "sdi = sparse_dieter(*inp)\n",
    "\n",
    "np.allclose(gab, ils), np.allclose(gab, fdi), np.allclose(gab, sdi)"
   ]
  },
  {
   "cell_type": "code",
   "execution_count": 15,
   "id": "00c5d07c-0510-4069-9f9a-3e0861988274",
   "metadata": {},
   "outputs": [
    {
     "name": "stdout",
     "output_type": "stream",
     "text": [
      "2.61 ms ± 404 µs per loop (mean ± std. dev. of 7 runs, 100 loops each)\n",
      "103 µs ± 7.13 µs per loop (mean ± std. dev. of 7 runs, 10,000 loops each)\n",
      "153 µs ± 18.9 µs per loop (mean ± std. dev. of 7 runs, 1,000 loops each)\n",
      "180 µs ± 32.6 µs per loop (mean ± std. dev. of 7 runs, 1,000 loops each)\n"
     ]
    }
   ],
   "source": [
    "%timeit gabriel(*inp)\n",
    "%timeit ilshat(*inp)\n",
    "%timeit full_dieter(*inp)\n",
    "%timeit sparse_dieter(*inp)"
   ]
  },
  {
   "cell_type": "code",
   "execution_count": 16,
   "id": "1f145463-72a7-4821-9752-84c0266f8607",
   "metadata": {},
   "outputs": [
    {
     "name": "stdout",
     "output_type": "stream",
     "text": [
      "peak memory: 130.59 MiB, increment: 0.00 MiB\n",
      "peak memory: 130.59 MiB, increment: 0.00 MiB\n",
      "peak memory: 130.59 MiB, increment: 0.00 MiB\n",
      "peak memory: 130.59 MiB, increment: 0.00 MiB\n"
     ]
    }
   ],
   "source": [
    "%memit gabriel(*inp)\n",
    "%memit ilshat(*inp)\n",
    "%memit full_dieter(*inp)\n",
    "%memit sparse_dieter(*inp)"
   ]
  },
  {
   "cell_type": "code",
   "execution_count": null,
   "id": "5e2a8964-cb4b-4747-b715-7f243c732392",
   "metadata": {},
   "outputs": [],
   "source": []
  }
 ],
 "metadata": {
  "kernelspec": {
   "display_name": "Python 3 (ipykernel)",
   "language": "python",
   "name": "python3"
  },
  "language_info": {
   "codemirror_mode": {
    "name": "ipython",
    "version": 3
   },
   "file_extension": ".py",
   "mimetype": "text/x-python",
   "name": "python",
   "nbconvert_exporter": "python",
   "pygments_lexer": "ipython3",
   "version": "3.11.4"
  }
 },
 "nbformat": 4,
 "nbformat_minor": 5
}
