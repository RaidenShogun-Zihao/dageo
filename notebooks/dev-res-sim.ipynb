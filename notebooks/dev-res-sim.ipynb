{
 "cells": [
  {
   "cell_type": "markdown",
   "metadata": {},
   "source": [
    "# Developing"
   ]
  },
  {
   "cell_type": "code",
   "execution_count": 1,
   "metadata": {},
   "outputs": [],
   "source": [
    "import numpy as np\n",
    "import matplotlib.pyplot as plt\n",
    "from reservoir_simulator import ReservoirSim \n",
    "from oldrs import ReservoirSim as ORS\n",
    "import numpy as np\n",
    "from scipy import stats\n",
    "import scipy as sp\n",
    "\n",
    "\n",
    "%load_ext autoreload\n",
    "%autoreload 2   \n",
    "%load_ext line_profiler\n",
    "\n",
    "# Random number generator\n",
    "rng = np.random.default_rng()"
   ]
  },
  {
   "cell_type": "code",
   "execution_count": 2,
   "metadata": {},
   "outputs": [
    {
     "data": {
      "text/plain": [
       "True"
      ]
     },
     "execution_count": 2,
     "metadata": {},
     "output_type": "execute_result"
    }
   ],
   "source": [
    "nx = ny = 100\n",
    "perm_field = np.ones(ny * ny) * 100  # Replace with your actual perm field\n",
    "reservoir = ReservoirSim(nx=nx, ny=ny, perm_field=perm_field)\n",
    "pressure_history = reservoir.simulate()\n",
    "np.allclose(ORS(nx=nx, ny=ny, perm_field=perm_field).simulate(), pressure_history[1:, :])"
   ]
  },
  {
   "cell_type": "code",
   "execution_count": 3,
   "metadata": {},
   "outputs": [
    {
     "name": "stdout",
     "output_type": "stream",
     "text": [
      "429 ms ± 13.3 ms per loop (mean ± std. dev. of 7 runs, 1 loop each)\n"
     ]
    }
   ],
   "source": [
    "%timeit reservoir.simulate()"
   ]
  },
  {
   "cell_type": "raw",
   "metadata": {},
   "source": [
    "           OLD CODE   NEW CODE\n",
    " 25 x  25:  0.072 s    0.020 s\n",
    " 50 x  50:  1.11  s    0.075 s\n",
    "100 x 100: 41.8   s    0.445 s"
   ]
  },
  {
   "cell_type": "code",
   "execution_count": 4,
   "metadata": {},
   "outputs": [
    {
     "data": {
      "text/plain": [
       "Timer unit: 1e-09 s\n",
       "\n",
       "Total time: 0.537036 s\n",
       "File: /home/dtr/Codes/DA-EM-CCS/notebooks/reservoir_simulator.py\n",
       "Function: simulate at line 107\n",
       "\n",
       "Line #      Hits         Time  Per Hit   % Time  Line Contents\n",
       "==============================================================\n",
       "   107                                               def simulate(self, realizations=10, dt=0.0001):\n",
       "   108                                           \n",
       "   109         1     116304.0 116304.0      0.0          compr = self.volumes * self.phi * self.c_f / dt\n",
       "   110                                           \n",
       "   111         1       3139.0   3139.0      0.0          P = np.empty((realizations+1, self.nb))\n",
       "   112         1      34869.0  34869.0      0.0          P[0, :] = np.ones(self.nb) * self.pres_ini\n",
       "   113                                           \n",
       "   114        10       4348.0    434.8      0.0          for i in range(realizations):\n",
       "   115                                           \n",
       "   116        10     336381.0  33638.1      0.1              dens = self.rho0 * (1 + self.c_f * (P[i, :] - self.p0))\n",
       "   117        10      98604.0   9860.4      0.0              beta = dens / self.mu_w\n",
       "   118                                           \n",
       "   119        10  317589305.0 31758930.5     59.1              K = self.get_matrix(beta, compr, P[i, :])\n",
       "   120        10     127557.0  12755.7      0.0              f = compr * P[i, :]\n",
       "   121                                           \n",
       "   122                                                       # TODO : make a flexible list of wells\n",
       "   123        10      22163.0   2216.3      0.0              f[0] += self.pres_inj * self.wi[0]\n",
       "   124        10    1172884.0 117288.4      0.2              K[0, 0] += self.wi[0]\n",
       "   125        10      14196.0   1419.6      0.0              f[-1] += self.pres_prd * self.wi[-1]\n",
       "   126        10     533058.0  53305.8      0.1              K[-1, -1] += self.wi[-1]\n",
       "   127                                           \n",
       "   128                                                       # Solve the system\n",
       "   129        10  216982660.0 21698266.0     40.4              P[i+1, :] = sp.sparse.linalg.spsolve(K, f)\n",
       "   130                                           \n",
       "   131         1        104.0    104.0      0.0          return P"
      ]
     },
     "metadata": {},
     "output_type": "display_data"
    }
   ],
   "source": [
    "%lprun -f ReservoirSim.simulate reservoir.simulate()"
   ]
  },
  {
   "cell_type": "code",
   "execution_count": 5,
   "metadata": {},
   "outputs": [
    {
     "data": {
      "text/plain": [
       "<matplotlib.image.AxesImage at 0x7d0824c51690>"
      ]
     },
     "execution_count": 5,
     "metadata": {},
     "output_type": "execute_result"
    },
    {
     "data": {
      "image/png": "[encoded data removed]",
      "text/plain": [
       "<Figure size 640x480 with 1 Axes>"
      ]
     },
     "metadata": {},
     "output_type": "display_data"
    }
   ],
   "source": [
    "pressure_history = pressure_history.reshape((pressure_history.shape[0], nx,ny))\n",
    "plt.imshow(pressure_history[-1,:,:])"
   ]
  },
  {
   "cell_type": "code",
   "execution_count": 6,
   "metadata": {},
   "outputs": [
    {
     "data": {
      "text/plain": [
       "[<matplotlib.lines.Line2D at 0x7d0812af5480>]"
      ]
     },
     "execution_count": 6,
     "metadata": {},
     "output_type": "execute_result"
    },
    {
     "data": {
      "image/png": "[encoded data removed]",
      "text/plain": [
       "<Figure size 640x480 with 1 Axes>"
      ]
     },
     "metadata": {},
     "output_type": "display_data"
    }
   ],
   "source": [
    "plt.plot(pressure_history[:,1,1])"
   ]
  }
 ],
 "metadata": {
  "kernelspec": {
   "display_name": "Python 3 (ipykernel)",
   "language": "python",
   "name": "python3"
  },
  "language_info": {
   "codemirror_mode": {
    "name": "ipython",
    "version": 3
   },
   "file_extension": ".py",
   "mimetype": "text/x-python",
   "name": "python",
   "nbconvert_exporter": "python",
   "pygments_lexer": "ipython3",
   "version": "3.10.10"
  }
 },
 "nbformat": 4,
 "nbformat_minor": 4
}
